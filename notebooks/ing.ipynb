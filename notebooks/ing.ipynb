{
 "cells": [
  {
   "cell_type": "code",
   "execution_count": 2,
   "metadata": {},
   "outputs": [
    {
     "name": "stdout",
     "output_type": "stream",
     "text": [
      "Requirement already satisfied: kaggle in /home/arvind/.local/lib/python3.8/site-packages (1.6.17)\n",
      "Requirement already satisfied: certifi>=2023.7.22 in /home/arvind/.local/lib/python3.8/site-packages (from kaggle) (2024.12.14)\n",
      "Requirement already satisfied: requests in /home/arvind/.local/lib/python3.8/site-packages (from kaggle) (2.31.0)\n",
      "Requirement already satisfied: tqdm in /home/arvind/.local/lib/python3.8/site-packages (from kaggle) (4.65.0)\n",
      "Requirement already satisfied: python-dateutil in /home/arvind/.local/lib/python3.8/site-packages (from kaggle) (2.8.2)\n",
      "Requirement already satisfied: six>=1.10 in /usr/lib/python3/dist-packages (from kaggle) (1.14.0)\n",
      "Requirement already satisfied: bleach in /home/arvind/.local/lib/python3.8/site-packages (from kaggle) (6.0.0)\n",
      "Requirement already satisfied: urllib3 in /usr/lib/python3/dist-packages (from kaggle) (1.25.8)\n",
      "Requirement already satisfied: python-slugify in /home/arvind/.local/lib/python3.8/site-packages (from kaggle) (8.0.4)\n",
      "Requirement already satisfied: charset-normalizer<4,>=2 in /home/arvind/.local/lib/python3.8/site-packages (from requests->kaggle) (3.2.0)\n",
      "Requirement already satisfied: idna<4,>=2.5 in /usr/lib/python3/dist-packages (from requests->kaggle) (2.8)\n",
      "Requirement already satisfied: webencodings in /home/arvind/.local/lib/python3.8/site-packages (from bleach->kaggle) (0.5.1)\n",
      "Requirement already satisfied: text-unidecode>=1.3 in /home/arvind/.local/lib/python3.8/site-packages (from python-slugify->kaggle) (1.3)\n"
     ]
    }
   ],
   "source": [
    "! pip install kaggle"
   ]
  },
  {
   "cell_type": "code",
   "execution_count": 22,
   "metadata": {},
   "outputs": [
    {
     "name": "stdout",
     "output_type": "stream",
     "text": [
      "Loading raw data from /home/arvind/ml_recommender/notebooks/data/raw/zomato.csv ......\n",
      "Loaded raw data with shape: (9551, 18)\n",
      "Saved raw data copy to /home/arvind/ml_recommender/data/raw/processed_zomato.csv\n"
     ]
    }
   ],
   "source": [
    "def load_raw_data():\n",
    "    try:\n",
    "        file_path = \"/home/arvind/ml_recommender/notebooks/data/raw/zomato.csv\"\n",
    "        print(f\"Loading raw data from {file_path} ......\")\n",
    "        reviews = pd.read_csv(file_path, encoding='latin1')\n",
    "        print(f\"Loaded raw data with shape: {reviews.shape}\")\n",
    "\n",
    "        PROCESSED_DATA_PATH = '/home/arvind/ml_recommender/data/raw/processed_zomato.csv'\n",
    "        os.makedirs(os.path.dirname(PROCESSED_DATA_PATH), exist_ok=True)\n",
    "        reviews.to_csv(PROCESSED_DATA_PATH, index=False)\n",
    "        print(f\"Saved raw data copy to {PROCESSED_DATA_PATH}\")\n",
    "        \n",
    "    except FileNotFoundError as e:\n",
    "        print(f\"File not found: {e.filename}\")\n",
    "        raise RuntimeError(\"Raw dataset file missing. Download might have failed.\") from e\n",
    "    except pd.errors.ParserError as e:\n",
    "        print(f\"Pandas parsing error: {str(e)}\")\n",
    "        raise RuntimeError(\"Error parsing the CSV file.\") from e\n",
    "    \n",
    "\n",
    "load_raw_data()\n",
    "\n"
   ]
  },
  {
   "cell_type": "code",
   "execution_count": 1,
   "metadata": {},
   "outputs": [
    {
     "name": "stdout",
     "output_type": "stream",
     "text": [
      "Starting dataset download from Kaggle...\n",
      "Download completed successfully.\n",
      "Warning: Looks like you're using an outdated API Version, please consider updating (server 1.7.4.2 / client 1.6.17)\n",
      "Dataset URL: https://www.kaggle.com/datasets/harishkumardatalab/global-zomato-dataset\n",
      "License(s): CC0-1.0\n",
      "Downloading global-zomato-dataset.zip to data/raw\n",
      "\n",
      "\n",
      "Loading raw data from /home/arvind/ml_recommender/notebooks/data/raw/zomato.csv ......\n",
      "Loaded raw data with shape: (9551, 18)\n",
      "Saved raw data copy to /home/arvind/ml_recommender/data/raw/processed_zomato.csv\n",
      "Dataset is ready for further processing.\n"
     ]
    }
   ],
   "source": [
    "import os\n",
    "import pandas as pd\n",
    "import subprocess\n",
    "\n",
    "RAW_DATA_DIR = \"data/raw\"\n",
    "RAW_DATA_PATH = os.path.join(RAW_DATA_DIR, \"zomato.csv\")\n",
    "PROCESSED_DATA_PATH = \"data/processed/clean_reviews.csv\"\n",
    "\n",
    "def download_kaggle_dataset():\n",
    "    dataset_name = \"harishkumardatalab/global-zomato-dataset\"\n",
    "    os.makedirs(RAW_DATA_DIR, exist_ok=True)\n",
    "\n",
    "    try:\n",
    "        print(\"Starting dataset download from Kaggle...\")\n",
    "        # Using subprocess.run for better control and error capture\n",
    "        result = subprocess.run(\n",
    "            [\"kaggle\", \"datasets\", \"download\", \"-d\", dataset_name, \"-p\", RAW_DATA_DIR, \"--unzip\"],\n",
    "            capture_output=True,\n",
    "            text=True,\n",
    "            check=True,\n",
    "        )\n",
    "        print(\"Download completed successfully.\")\n",
    "        print(result.stdout)\n",
    "    except subprocess.CalledProcessError as e:\n",
    "        print(f\"Error during download: {e.stderr}\")\n",
    "        raise RuntimeError(\"Failed to download Kaggle dataset. Make sure kaggle.json is configured.\") from e\n",
    "    \n",
    "\n",
    "# download_kaggle_dataset()\n",
    "\n",
    "\n",
    "def load_raw_data():\n",
    "    try:\n",
    "        file_path = \"/home/arvind/ml_recommender/notebooks/data/raw/zomato.csv\"\n",
    "        print(f\"Loading raw data from {file_path} ......\")\n",
    "        reviews = pd.read_csv(file_path, encoding='latin1')\n",
    "        print(f\"Loaded raw data with shape: {reviews.shape}\")\n",
    "\n",
    "        PROCESSED_DATA_PATH = '/home/arvind/ml_recommender/data/raw/processed_zomato.csv'\n",
    "        os.makedirs(os.path.dirname(PROCESSED_DATA_PATH), exist_ok=True)\n",
    "        reviews.to_csv(PROCESSED_DATA_PATH, index=False)\n",
    "        print(f\"Saved raw data copy to {PROCESSED_DATA_PATH}\")\n",
    "        \n",
    "    except FileNotFoundError as e:\n",
    "        print(f\"File not found: {e.filename}\")\n",
    "        raise RuntimeError(\"Raw dataset file missing. Download might have failed.\") from e\n",
    "    except pd.errors.ParserError as e:\n",
    "        print(f\"Pandas parsing error: {str(e)}\")\n",
    "        raise RuntimeError(\"Error parsing the CSV file.\") from e\n",
    "    \n",
    "\n",
    "if __name__ == \"__main__\":\n",
    "    try:\n",
    "        download_kaggle_dataset()\n",
    "        load_raw_data()\n",
    "        print(\"Dataset is ready for further processing.\")\n",
    "    except Exception as err:\n",
    "        print(f\"Pipeline failed: {err}\")\n",
    "\n",
    "\n",
    "\n"
   ]
  },
  {
   "cell_type": "code",
   "execution_count": null,
   "metadata": {},
   "outputs": [],
   "source": []
  }
 ],
 "metadata": {
  "kernelspec": {
   "display_name": "Python 3",
   "language": "python",
   "name": "python3"
  },
  "language_info": {
   "codemirror_mode": {
    "name": "ipython",
    "version": 3
   },
   "file_extension": ".py",
   "mimetype": "text/x-python",
   "name": "python",
   "nbconvert_exporter": "python",
   "pygments_lexer": "ipython3",
   "version": "3.8.10"
  }
 },
 "nbformat": 4,
 "nbformat_minor": 2
}
